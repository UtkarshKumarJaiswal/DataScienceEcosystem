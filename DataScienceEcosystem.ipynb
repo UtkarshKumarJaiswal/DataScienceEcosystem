{
 "cells": [
  {
   "cell_type": "markdown",
   "id": "12fb14c2-7766-4acb-aaa9-e0d99017784a",
   "metadata": {},
   "source": [
    "# Data Science Tools and Ecosystem"
   ]
  },
  {
   "cell_type": "markdown",
   "id": "274b1f51-4d40-4522-a43b-05d8488a2af6",
   "metadata": {},
   "source": [
    "In this notebook, Data Science Tools and Ecosystem are summarized."
   ]
  },
  {
   "cell_type": "markdown",
   "id": "e3f2253c-db07-4aab-9c0a-58ad65207e85",
   "metadata": {},
   "source": [
    "**Objectives:**\n",
    "* List popular languages for Data Science\n",
    "* List popular libraries used in Data Science\n",
    "* List popular Deevelopment environments for Data Science"
   ]
  },
  {
   "cell_type": "markdown",
   "id": "331184eb-071a-4305-bf30-a56cfe6494ec",
   "metadata": {},
   "source": [
    "Some of the popular languages that Data Scientists use are:<br>\n",
    "1. Python\n",
    "2. R\n",
    "3. SQL\n",
    "4. Java"
   ]
  },
  {
   "cell_type": "markdown",
   "id": "a4bb0834-5a79-42e7-bc8f-6abc0c877287",
   "metadata": {},
   "source": [
    "Some of the commonly used libraries used by Data Scientists incluide:<br>\n",
    "1. numpy\n",
    "2. pandas\n",
    "3. matplotlib\n",
    "4. sklearn"
   ]
  },
  {
   "cell_type": "markdown",
   "id": "e7bc16b5-70da-42a0-9b3e-fd30abe281fc",
   "metadata": {},
   "source": [
    "| Data Science Tools |\n",
    "| --- |\n",
    "| Jupyter Notebook |\n",
    "| RStudio |\n",
    "| VS Code |"
   ]
  },
  {
   "cell_type": "markdown",
   "id": "08f0c9db-e3b8-456a-8a1e-917ceedfbb27",
   "metadata": {},
   "source": [
    "### Below are a few examples of evaluating arithmetic expressions in Python"
   ]
  },
  {
   "cell_type": "code",
   "execution_count": 3,
   "id": "3be016f1-b903-473f-8899-79d702c093cd",
   "metadata": {},
   "outputs": [
    {
     "name": "stdout",
     "output_type": "stream",
     "text": [
      "17\n"
     ]
    }
   ],
   "source": [
    "# This a simple arithmetic expression to mutiply then add integers\n",
    "print((3*4)+5)"
   ]
  },
  {
   "cell_type": "code",
   "execution_count": 7,
   "id": "28e2cc87-817c-4181-be97-b69e90dc79cd",
   "metadata": {},
   "outputs": [
    {
     "name": "stdout",
     "output_type": "stream",
     "text": [
      "200 minutes are equal to 3 hours and 20 minutes\n"
     ]
    }
   ],
   "source": [
    "# This will convert 200 minutes to hours by diving by 60\n",
    "hrs, mins=divmod(200,60)\n",
    "print(f\"200 minutes are equal to {hrs} hours and {mins} minutes\")"
   ]
  },
  {
   "cell_type": "markdown",
   "id": "6fe7c485-ad55-491f-b792-ea2c22f8f458",
   "metadata": {},
   "source": [
    "## Author\n",
    "Utkarsh Kumar Jaiswal"
   ]
  },
  {
   "cell_type": "code",
   "execution_count": null,
   "id": "dff852b6-5a3d-4f67-8bf1-12935b832f81",
   "metadata": {},
   "outputs": [],
   "source": []
  }
 ],
 "metadata": {
  "kernelspec": {
   "display_name": "Python 3 (ipykernel)",
   "language": "python",
   "name": "python3"
  },
  "language_info": {
   "codemirror_mode": {
    "name": "ipython",
    "version": 3
   },
   "file_extension": ".py",
   "mimetype": "text/x-python",
   "name": "python",
   "nbconvert_exporter": "python",
   "pygments_lexer": "ipython3",
   "version": "3.12.8"
  }
 },
 "nbformat": 4,
 "nbformat_minor": 5
}
